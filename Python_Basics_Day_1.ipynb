{
  "nbformat": 4,
  "nbformat_minor": 0,
  "metadata": {
    "colab": {
      "provenance": []
    },
    "kernelspec": {
      "name": "python3",
      "display_name": "Python 3"
    },
    "language_info": {
      "name": "python"
    }
  },
  "cells": [
    {
      "cell_type": "markdown",
      "source": [
        "**Python Basic Terms**\n",
        "\n",
        "\n",
        "*   Syntax (Valid & Invalid)\n",
        "*   Comments\n",
        "\n"
      ],
      "metadata": {
        "id": "vTsmuXI7j0NM"
      }
    },
    {
      "cell_type": "code",
      "source": [
        "address = 'Ravi kiran , guntur : 61109'    # This is my address\n",
        "print(address)                              # This is the print statement"
      ],
      "metadata": {
        "id": "gV8N7PgBhy5e",
        "colab": {
          "base_uri": "https://localhost:8080/"
        },
        "outputId": "05288f5e-b565-421e-980c-0c06c893a648"
      },
      "execution_count": 1,
      "outputs": [
        {
          "output_type": "stream",
          "name": "stdout",
          "text": [
            "Ravi kiran , guntur : 61109\n"
          ]
        }
      ]
    },
    {
      "cell_type": "code",
      "source": [
        "print('Guntur') #Printing the stting guntur"
      ],
      "metadata": {
        "id": "R6sejPXzhzFx",
        "colab": {
          "base_uri": "https://localhost:8080/"
        },
        "outputId": "87604944-a050-498a-816a-46fe8ecb34c6"
      },
      "execution_count": 2,
      "outputs": [
        {
          "output_type": "stream",
          "name": "stdout",
          "text": [
            "Guntur\n"
          ]
        }
      ]
    },
    {
      "cell_type": "code",
      "source": [
        "print(address) #printing my address"
      ],
      "metadata": {
        "colab": {
          "base_uri": "https://localhost:8080/"
        },
        "id": "UfmMBsbqPLyT",
        "outputId": "d3e9c5e7-9600-4c52-f2a8-b5fba5ec539f"
      },
      "execution_count": 3,
      "outputs": [
        {
          "output_type": "stream",
          "name": "stdout",
          "text": [
            "Ravi kiran , guntur : 61109\n"
          ]
        }
      ]
    },
    {
      "cell_type": "markdown",
      "source": [
        "**Python Data Types, Type Casting & Variables**\n",
        "\n",
        "\n",
        "*   **Text Type:**\tstr\n",
        "*   **Numeric Types:**\tint, float\n",
        "*   **Sequence Types:**\tlist, tuple, range\n",
        "*   **Mapping Type:**\tdict\n",
        "*   **Set Types:**\tset\n",
        "*   **Boolean Type:**\tbool\n",
        "\n",
        "\n"
      ],
      "metadata": {
        "id": "W_B3PupFt5B6"
      }
    },
    {
      "cell_type": "code",
      "source": [
        "name = 'Ravi'\n",
        "age = 27\n",
        "height = 5.4\n",
        "#These are containers where they store multiple type of values\n",
        "profile = ['Ravi',27,5.4,60,'computational linguist']         # List Method can take different data types\n",
        "profile_2 = ('Ravi',28,5.5,55,'Student')        # Tuple Method can take different methods\n",
        "profile_3 = {'Name':'Ravi','Role':'linguist','age':27,'City':'Delhi'} # Dictionary Method\n",
        "profile_4 = {'preethi',55.6,'Human resource', 5.3}     # Set Method can store multiple values"
      ],
      "metadata": {
        "id": "jLE90KmNiKOz"
      },
      "execution_count": 4,
      "outputs": []
    },
    {
      "cell_type": "code",
      "source": [
        "profile_3.values()"
      ],
      "metadata": {
        "id": "eI1s2bQgRZcq",
        "outputId": "3bee1415-6db7-4a69-cc0d-789b40df12ac",
        "colab": {
          "base_uri": "https://localhost:8080/"
        }
      },
      "execution_count": 5,
      "outputs": [
        {
          "output_type": "execute_result",
          "data": {
            "text/plain": [
              "dict_values(['Ravi', 'linguist', 27, 'Delhi'])"
            ]
          },
          "metadata": {},
          "execution_count": 5
        }
      ]
    },
    {
      "cell_type": "code",
      "source": [
        "print(profile_4)"
      ],
      "metadata": {
        "colab": {
          "base_uri": "https://localhost:8080/"
        },
        "id": "x-g5j8aQkflt",
        "outputId": "6d6a8e46-6563-46f9-caa2-cbb384072d7e"
      },
      "execution_count": 6,
      "outputs": [
        {
          "output_type": "stream",
          "name": "stdout",
          "text": [
            "{'Human resource', 5.3, 'preethi', 55.6}\n"
          ]
        }
      ]
    },
    {
      "cell_type": "code",
      "source": [
        "type(profile_4)"
      ],
      "metadata": {
        "colab": {
          "base_uri": "https://localhost:8080/"
        },
        "id": "CKp9pn8WiScZ",
        "outputId": "e0b0969a-e599-44be-f287-1a55c9f07a76"
      },
      "execution_count": 7,
      "outputs": [
        {
          "output_type": "execute_result",
          "data": {
            "text/plain": [
              "set"
            ]
          },
          "metadata": {},
          "execution_count": 7
        }
      ]
    },
    {
      "cell_type": "code",
      "source": [
        "student1 = ('Rishika', 21, 90.2)    # Cannot modify it or tuples are immutable immutable it is used for passwords.\n",
        "student2 = ['Rishika', 21, 90.2]    # Can modify it or lists are mutable\n",
        "student3 = {'Rishika', 21, 90.2}    # Random Output or sets are not ordered"
      ],
      "metadata": {
        "id": "1Z6vCUpft539"
      },
      "execution_count": 8,
      "outputs": []
    },
    {
      "cell_type": "code",
      "source": [
        "type(student3)"
      ],
      "metadata": {
        "colab": {
          "base_uri": "https://localhost:8080/"
        },
        "id": "CF60KB5Ibg3X",
        "outputId": "7ea75ac1-1eb8-4d40-dd30-4e9dcd014bb7"
      },
      "execution_count": 9,
      "outputs": [
        {
          "output_type": "execute_result",
          "data": {
            "text/plain": [
              "set"
            ]
          },
          "metadata": {},
          "execution_count": 9
        }
      ]
    },
    {
      "cell_type": "code",
      "source": [
        "print(student3)"
      ],
      "metadata": {
        "id": "s1cZ_ssJSqEf",
        "outputId": "228eb9e4-c46b-4245-89ab-994147401b99",
        "colab": {
          "base_uri": "https://localhost:8080/"
        }
      },
      "execution_count": 10,
      "outputs": [
        {
          "output_type": "stream",
          "name": "stdout",
          "text": [
            "{90.2, 21, 'Rishika'}\n"
          ]
        }
      ]
    },
    {
      "cell_type": "code",
      "source": [
        "student = {'Name':'Rishika', 'Age': 21, 'Percent':90.2} # in dictionary, comma is used to seperate the values and colon is used to connect the values."
      ],
      "metadata": {
        "id": "JWNv8oJFwr1h"
      },
      "execution_count": 11,
      "outputs": []
    },
    {
      "cell_type": "code",
      "source": [
        "student.values()"
      ],
      "metadata": {
        "id": "B8qLhTSaRdX1",
        "outputId": "37b832f1-f669-4a26-886a-0997701f2d2e",
        "colab": {
          "base_uri": "https://localhost:8080/"
        }
      },
      "execution_count": 12,
      "outputs": [
        {
          "output_type": "execute_result",
          "data": {
            "text/plain": [
              "dict_values(['Rishika', 21, 90.2])"
            ]
          },
          "metadata": {},
          "execution_count": 12
        }
      ]
    },
    {
      "cell_type": "code",
      "source": [
        "bool(7) #only zero is false"
      ],
      "metadata": {
        "colab": {
          "base_uri": "https://localhost:8080/"
        },
        "id": "1jSqcl2MNfCY",
        "outputId": "08665c2a-bd47-4ce1-cb0c-b52b3fc9ea61"
      },
      "execution_count": 13,
      "outputs": [
        {
          "output_type": "execute_result",
          "data": {
            "text/plain": [
              "True"
            ]
          },
          "metadata": {},
          "execution_count": 13
        }
      ]
    },
    {
      "cell_type": "code",
      "source": [
        "age = str(2) # Changing the type of the variable"
      ],
      "metadata": {
        "id": "C38yjp4ww6uO"
      },
      "execution_count": 14,
      "outputs": []
    },
    {
      "cell_type": "code",
      "source": [
        "type(age)"
      ],
      "metadata": {
        "colab": {
          "base_uri": "https://localhost:8080/"
        },
        "id": "E26H048ARXp6",
        "outputId": "8ee0c161-3123-4024-9984-780842cad33d"
      },
      "execution_count": 15,
      "outputs": [
        {
          "output_type": "execute_result",
          "data": {
            "text/plain": [
              "str"
            ]
          },
          "metadata": {},
          "execution_count": 15
        }
      ]
    },
    {
      "cell_type": "markdown",
      "source": [
        "**Python Operators**\n",
        "\n",
        "*   Arithmetic operators\n",
        "*   Assignment operators\n",
        "*   Comparison operators\n",
        "*   Logical operators\n",
        "*   Membership operators"
      ],
      "metadata": {
        "id": "CUMJaslIw7qD"
      }
    },
    {
      "cell_type": "code",
      "source": [
        "# Arithmetic Operators (+,-,*,/,%,**)                        # Used with numeric values to perform common mathematical operations\n",
        "\n",
        "x = 5\n",
        "y = 8\n",
        "\n",
        "# print(x+y, x-y, x*y, x/y, x%y, x**y)\n",
        "\n",
        "print(x*y) #Multiplying x and y\n",
        "print(x+y) # Addition of x and y\n",
        "print(x-y) #Substraction of x from y\n",
        "print(x/y) #Divison of x by y"
      ],
      "metadata": {
        "id": "ZBFXMVCw6if9",
        "colab": {
          "base_uri": "https://localhost:8080/"
        },
        "outputId": "43354418-40f0-4314-d2e5-ca684c88b258"
      },
      "execution_count": 18,
      "outputs": [
        {
          "output_type": "stream",
          "name": "stdout",
          "text": [
            "40\n",
            "13\n",
            "-3\n",
            "0.625\n"
          ]
        }
      ]
    },
    {
      "cell_type": "code",
      "source": [
        "\n",
        "# Assignment Operators (=,+=,-=,*=,/=,%=,**=)                # Used to assign values to variables\n",
        "\n",
        "x, y = 5, 8 #Multiple assignment\n",
        "\n",
        "\n",
        "# x = x - y\n",
        "# x -= y       # x = x - y/\n",
        "\n",
        "\n",
        "x = x * y # We are  using the multiplication on this variables.\n",
        "\n",
        "\n",
        "print(x)"
      ],
      "metadata": {
        "id": "9CUNVhBD6iiO",
        "colab": {
          "base_uri": "https://localhost:8080/"
        },
        "outputId": "679b2d40-8239-4d85-d6f1-51b2d265e723"
      },
      "execution_count": 19,
      "outputs": [
        {
          "output_type": "stream",
          "name": "stdout",
          "text": [
            "40\n"
          ]
        }
      ]
    },
    {
      "cell_type": "code",
      "source": [
        "# Comparison Operators (==,!=,<,>,<=,>=)                     # Used to compare two values\n",
        "\n",
        "# print(x == y, x != y, x < y, x > y, x <= y, x >= y)\n",
        "x, y = 5, 8\n",
        "\n",
        "x >= y"
      ],
      "metadata": {
        "id": "mO9KdpFt6ikP",
        "colab": {
          "base_uri": "https://localhost:8080/"
        },
        "outputId": "0ad72bc4-c139-42c2-8387-121c071238a6"
      },
      "execution_count": 20,
      "outputs": [
        {
          "output_type": "execute_result",
          "data": {
            "text/plain": [
              "False"
            ]
          },
          "metadata": {},
          "execution_count": 20
        }
      ]
    },
    {
      "cell_type": "code",
      "source": [
        "# Logical Operators (==,!=,<,>,<=,>=)                        # Used to combine conditional statements\n",
        "\n",
        "# print(x and y)\n",
        "\n",
        "case1 =(x < y) or (x == y)\n",
        "\n",
        "print(case1,not(case1))"
      ],
      "metadata": {
        "id": "ARZIC6W46iml",
        "colab": {
          "base_uri": "https://localhost:8080/"
        },
        "outputId": "47ca2cd4-e5f6-4387-8759-83be82cea931"
      },
      "execution_count": 21,
      "outputs": [
        {
          "output_type": "stream",
          "name": "stdout",
          "text": [
            "True False\n"
          ]
        }
      ]
    },
    {
      "cell_type": "code",
      "source": [
        "# Membership Operators (==,!=,<,>,<=,>=)                     # Used to test if a sequence is presented in an object\n",
        "\n",
        "# print(x in y, x not in y)\n",
        "\n",
        "x = [1,2,3,4,5]\n",
        "y = 6\n",
        "\n",
        "y not in x"
      ],
      "metadata": {
        "id": "0ZpytLZ06iq8",
        "colab": {
          "base_uri": "https://localhost:8080/"
        },
        "outputId": "05bdc08f-b1bd-417b-f12d-4ee2b4bf6b03"
      },
      "execution_count": 22,
      "outputs": [
        {
          "output_type": "execute_result",
          "data": {
            "text/plain": [
              "True"
            ]
          },
          "metadata": {},
          "execution_count": 22
        }
      ]
    },
    {
      "cell_type": "code",
      "source": [],
      "metadata": {
        "id": "8o6nVYUc6is-"
      },
      "execution_count": null,
      "outputs": []
    },
    {
      "cell_type": "code",
      "source": [],
      "metadata": {
        "id": "1B_tJlgG6iu4"
      },
      "execution_count": null,
      "outputs": []
    }
  ]
}