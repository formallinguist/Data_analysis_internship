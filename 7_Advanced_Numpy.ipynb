{
  "nbformat": 4,
  "nbformat_minor": 0,
  "metadata": {
    "colab": {
      "provenance": []
    },
    "kernelspec": {
      "name": "python3",
      "display_name": "Python 3"
    },
    "language_info": {
      "name": "python"
    }
  },
  "cells": [
    {
      "cell_type": "markdown",
      "source": [
        "## Slicing arrays\n",
        "Slicing in python means taking elements from one given index to another given index.\n",
        "\n",
        "We pass slice instead of index like this: [start:end].\n",
        "\n",
        "We can also define the step, like this: [start:end:step]."
      ],
      "metadata": {
        "id": "_5CrEqY2imUg"
      }
    },
    {
      "cell_type": "code",
      "source": [
        "import numpy as np"
      ],
      "metadata": {
        "id": "ORoOTIE40jW2"
      },
      "execution_count": 1,
      "outputs": []
    },
    {
      "cell_type": "code",
      "source": [
        "a1 = np.array([1, 2, 3, 4, 5, 6, 7])"
      ],
      "metadata": {
        "id": "veB1L8tR0mSr"
      },
      "execution_count": 2,
      "outputs": []
    },
    {
      "cell_type": "code",
      "source": [
        "print(a1[1:5])  # Slicing 1D Array"
      ],
      "metadata": {
        "id": "DhpyIzzw0pKv",
        "outputId": "b1dcadd1-df97-4042-e23a-4d425ed26190",
        "colab": {
          "base_uri": "https://localhost:8080/"
        }
      },
      "execution_count": 3,
      "outputs": [
        {
          "output_type": "stream",
          "name": "stdout",
          "text": [
            "[2 3 4 5]\n"
          ]
        }
      ]
    },
    {
      "cell_type": "code",
      "source": [
        "print(a1[4])     # Indexing"
      ],
      "metadata": {
        "id": "YQWL88Vm0u4_",
        "outputId": "b32c8253-adcc-4ed0-9ba0-c345ac7598cc",
        "colab": {
          "base_uri": "https://localhost:8080/"
        }
      },
      "execution_count": 4,
      "outputs": [
        {
          "output_type": "stream",
          "name": "stdout",
          "text": [
            "5\n"
          ]
        }
      ]
    },
    {
      "cell_type": "code",
      "source": [
        "a1[:4]"
      ],
      "metadata": {
        "id": "QrXak6N_0wld",
        "outputId": "06adf48f-578f-459d-b844-e1d131f577b7",
        "colab": {
          "base_uri": "https://localhost:8080/"
        }
      },
      "execution_count": 5,
      "outputs": [
        {
          "output_type": "execute_result",
          "data": {
            "text/plain": [
              "array([1, 2, 3, 4])"
            ]
          },
          "metadata": {},
          "execution_count": 5
        }
      ]
    },
    {
      "cell_type": "code",
      "source": [
        "a2 = np.array([[1, 2, 3, 4, 5], [6, 7, 8, 9, 10]])"
      ],
      "metadata": {
        "id": "6LLkFN5U016M"
      },
      "execution_count": 6,
      "outputs": []
    },
    {
      "cell_type": "code",
      "source": [
        "print(a2)"
      ],
      "metadata": {
        "id": "tpXK4B4bfE-M",
        "outputId": "aa519f0a-5fdb-41f4-e7ea-4851a1f7312d",
        "colab": {
          "base_uri": "https://localhost:8080/"
        }
      },
      "execution_count": 7,
      "outputs": [
        {
          "output_type": "stream",
          "name": "stdout",
          "text": [
            "[[ 1  2  3  4  5]\n",
            " [ 6  7  8  9 10]]\n"
          ]
        }
      ]
    },
    {
      "cell_type": "code",
      "source": [
        "a2[1, 1:4]"
      ],
      "metadata": {
        "id": "qhlIhwzL08sS",
        "outputId": "df6b2a4c-a692-4746-d680-5acd2967043b",
        "colab": {
          "base_uri": "https://localhost:8080/"
        }
      },
      "execution_count": 8,
      "outputs": [
        {
          "output_type": "execute_result",
          "data": {
            "text/plain": [
              "array([7, 8, 9])"
            ]
          },
          "metadata": {},
          "execution_count": 8
        }
      ]
    },
    {
      "cell_type": "code",
      "source": [
        "a2[0:2, 2]"
      ],
      "metadata": {
        "id": "qRiBbjC-08pZ",
        "outputId": "65fd2fb3-1b92-4594-9aad-e2e2207a0948",
        "colab": {
          "base_uri": "https://localhost:8080/"
        }
      },
      "execution_count": 9,
      "outputs": [
        {
          "output_type": "execute_result",
          "data": {
            "text/plain": [
              "array([3, 8])"
            ]
          },
          "metadata": {},
          "execution_count": 9
        }
      ]
    },
    {
      "cell_type": "code",
      "source": [
        "a2[1:, :5]"
      ],
      "metadata": {
        "id": "VV_onem91BOb",
        "outputId": "e8d9f60d-e04c-4b96-e9b6-4f6dde6f1555",
        "colab": {
          "base_uri": "https://localhost:8080/"
        }
      },
      "execution_count": 10,
      "outputs": [
        {
          "output_type": "execute_result",
          "data": {
            "text/plain": [
              "array([[ 6,  7,  8,  9, 10]])"
            ]
          },
          "metadata": {},
          "execution_count": 10
        }
      ]
    },
    {
      "cell_type": "code",
      "source": [
        "a2.shape"
      ],
      "metadata": {
        "id": "TdT6aw36f8hu",
        "colab": {
          "base_uri": "https://localhost:8080/"
        },
        "outputId": "82cae9ce-550a-4dc5-cca8-528b523787ef"
      },
      "execution_count": 11,
      "outputs": [
        {
          "output_type": "execute_result",
          "data": {
            "text/plain": [
              "(2, 5)"
            ]
          },
          "metadata": {},
          "execution_count": 11
        }
      ]
    },
    {
      "cell_type": "code",
      "source": [
        "# a3.shape"
      ],
      "metadata": {
        "id": "omk5lznDf8la"
      },
      "execution_count": 12,
      "outputs": []
    },
    {
      "cell_type": "code",
      "source": [
        "a3 = np.array([[[10, 11, 12], [13, 14, 15], [16, 17, 18]],\n",
        "               [[20, 21, 22], [23, 24, 25], [26, 27, 28]],\n",
        "               [[30, 31, 32], [33, 34, 35], [36, 37, 38]]])           # # Slicing 3D Array"
      ],
      "metadata": {
        "id": "6pFBv-tXg3lU"
      },
      "execution_count": 13,
      "outputs": []
    },
    {
      "cell_type": "code",
      "source": [
        "a3[:2,1:,:2]                                                          # [matrix:row:column]"
      ],
      "metadata": {
        "id": "sKv6yYKIg3nV",
        "outputId": "99b36662-7db2-4725-81ee-f45be294759d",
        "colab": {
          "base_uri": "https://localhost:8080/"
        }
      },
      "execution_count": 14,
      "outputs": [
        {
          "output_type": "execute_result",
          "data": {
            "text/plain": [
              "array([[[13, 14],\n",
              "        [16, 17]],\n",
              "\n",
              "       [[23, 24],\n",
              "        [26, 27]]])"
            ]
          },
          "metadata": {},
          "execution_count": 14
        }
      ]
    },
    {
      "cell_type": "code",
      "source": [
        "a3[:2,1:,:]"
      ],
      "metadata": {
        "colab": {
          "base_uri": "https://localhost:8080/"
        },
        "id": "yCIpXjHpm1LT",
        "outputId": "e2e5de19-8d4f-4225-bbc7-80108e9a9729"
      },
      "execution_count": 15,
      "outputs": [
        {
          "output_type": "execute_result",
          "data": {
            "text/plain": [
              "array([[[13, 14, 15],\n",
              "        [16, 17, 18]],\n",
              "\n",
              "       [[23, 24, 25],\n",
              "        [26, 27, 28]]])"
            ]
          },
          "metadata": {},
          "execution_count": 15
        }
      ]
    },
    {
      "cell_type": "code",
      "source": [
        "a3[:2,1:,:2]"
      ],
      "metadata": {
        "id": "rCZViER-g3pR",
        "outputId": "aeb958ef-d765-4062-e3ed-173a999c8fe9",
        "colab": {
          "base_uri": "https://localhost:8080/"
        }
      },
      "execution_count": 16,
      "outputs": [
        {
          "output_type": "execute_result",
          "data": {
            "text/plain": [
              "array([[[13, 14],\n",
              "        [16, 17]],\n",
              "\n",
              "       [[23, 24],\n",
              "        [26, 27]]])"
            ]
          },
          "metadata": {},
          "execution_count": 16
        }
      ]
    },
    {
      "cell_type": "markdown",
      "source": [
        "# View vs Copy\n",
        "\n",
        "Copy is a new array, and the View is just a view of the original array.\n",
        "\n",
        "Any changes made to the **copy** will not affect original array.\n",
        "\n",
        "Any changes made to the **view** will affect the original array."
      ],
      "metadata": {
        "id": "kwge9Pl45-gI"
      }
    },
    {
      "cell_type": "code",
      "source": [
        "arr = np.array([1, 2, 3, 4, 5])"
      ],
      "metadata": {
        "id": "pEQJD9iJQd1w"
      },
      "execution_count": 17,
      "outputs": []
    },
    {
      "cell_type": "code",
      "source": [
        "# Copy Method\n",
        "copy = arr.copy()"
      ],
      "metadata": {
        "id": "4XYd7RD5QgaY"
      },
      "execution_count": 23,
      "outputs": []
    },
    {
      "cell_type": "code",
      "source": [
        "copy[0] = 42"
      ],
      "metadata": {
        "id": "5LPVs1SkQ5UW"
      },
      "execution_count": 24,
      "outputs": []
    },
    {
      "cell_type": "code",
      "source": [
        "print(copy)"
      ],
      "metadata": {
        "id": "IATlMma9Qu_2",
        "outputId": "95a2c67e-ccc1-4199-c15f-cf0a1c4d51c6",
        "colab": {
          "base_uri": "https://localhost:8080/"
        }
      },
      "execution_count": 25,
      "outputs": [
        {
          "output_type": "stream",
          "name": "stdout",
          "text": [
            "[42  2  3  4  5]\n"
          ]
        }
      ]
    },
    {
      "cell_type": "code",
      "source": [
        "print(arr)"
      ],
      "metadata": {
        "id": "NbQUKIh0Qw1o",
        "outputId": "1c52a285-805a-4d1f-fbb7-c77154ffc4d9",
        "colab": {
          "base_uri": "https://localhost:8080/"
        }
      },
      "execution_count": 26,
      "outputs": [
        {
          "output_type": "stream",
          "name": "stdout",
          "text": [
            "[1 2 3 4 5]\n"
          ]
        }
      ]
    },
    {
      "cell_type": "code",
      "source": [
        "# View Method\n",
        "\n",
        "view = arr.view()\n",
        "view[0] = 42\n",
        "\n",
        "print(arr)\n",
        "print(view)"
      ],
      "metadata": {
        "id": "Ayrq2SoW740N",
        "colab": {
          "base_uri": "https://localhost:8080/"
        },
        "outputId": "436ed34c-b218-4a8b-f0a8-fcf567482377"
      },
      "execution_count": 28,
      "outputs": [
        {
          "output_type": "stream",
          "name": "stdout",
          "text": [
            "[42  2  3  4  5]\n",
            "[42  2  3  4  5]\n"
          ]
        }
      ]
    },
    {
      "cell_type": "markdown",
      "source": [
        "# Append , Insert and Delete Operations"
      ],
      "metadata": {
        "id": "LYmG8dHtPIF8"
      }
    },
    {
      "cell_type": "code",
      "source": [
        "a = np.array([[1,2,3],\n",
        "              [4,5,6]])  # Its a 2d array\n",
        "a.shape"
      ],
      "metadata": {
        "id": "oeTjomGvRWQO",
        "outputId": "d9f300d9-c840-45c1-e167-adcc9445df9b",
        "colab": {
          "base_uri": "https://localhost:8080/"
        }
      },
      "execution_count": 34,
      "outputs": [
        {
          "output_type": "execute_result",
          "data": {
            "text/plain": [
              "(2, 3)"
            ]
          },
          "metadata": {},
          "execution_count": 34
        }
      ]
    },
    {
      "cell_type": "code",
      "source": [
        "# Append Method\n",
        "np.append(a, [7,8,9]) # We are appending simple list"
      ],
      "metadata": {
        "id": "HdyaHKCyRaOa",
        "outputId": "5c1f2d10-28c9-435c-de98-64a7573e9dc4",
        "colab": {
          "base_uri": "https://localhost:8080/"
        }
      },
      "execution_count": 35,
      "outputs": [
        {
          "output_type": "execute_result",
          "data": {
            "text/plain": [
              "array([1, 2, 3, 4, 5, 6, 7, 8, 9])"
            ]
          },
          "metadata": {},
          "execution_count": 35
        }
      ]
    },
    {
      "cell_type": "code",
      "source": [
        "np.append(a, [[7,8,9]],axis = 0)                # axis = 0 = row , axis = 1 = col"
      ],
      "metadata": {
        "id": "7GhQevoZRfxN",
        "outputId": "4a336c02-a5fb-41b5-a82a-e1c9cef2640b",
        "colab": {
          "base_uri": "https://localhost:8080/"
        }
      },
      "execution_count": 36,
      "outputs": [
        {
          "output_type": "execute_result",
          "data": {
            "text/plain": [
              "array([[1, 2, 3],\n",
              "       [4, 5, 6],\n",
              "       [7, 8, 9]])"
            ]
          },
          "metadata": {},
          "execution_count": 36
        }
      ]
    },
    {
      "cell_type": "code",
      "source": [
        "np.append(a, [[5],[8]],axis = 1)"
      ],
      "metadata": {
        "id": "nDsiOwzkRiPD",
        "outputId": "a3938580-740e-4a9c-ad8e-bb26d725aaac",
        "colab": {
          "base_uri": "https://localhost:8080/"
        }
      },
      "execution_count": 37,
      "outputs": [
        {
          "output_type": "execute_result",
          "data": {
            "text/plain": [
              "array([[1, 2, 3, 5],\n",
              "       [4, 5, 6, 8]])"
            ]
          },
          "metadata": {},
          "execution_count": 37
        }
      ]
    },
    {
      "cell_type": "code",
      "source": [
        "a = np.array([[1,2],\n",
        "              [3,4],\n",
        "              [5,6]])"
      ],
      "metadata": {
        "id": "hNAYZZFSVU_x"
      },
      "execution_count": 38,
      "outputs": []
    },
    {
      "cell_type": "markdown",
      "source": [
        "# Insert Method"
      ],
      "metadata": {
        "id": "zz0ubm9jVtss"
      }
    },
    {
      "cell_type": "code",
      "source": [
        "np.insert(a,3,[11,12])"
      ],
      "metadata": {
        "id": "viMUHxyeVXQ7",
        "outputId": "b6408a61-d9f3-4dfc-a740-243f90d4bbaf",
        "colab": {
          "base_uri": "https://localhost:8080/"
        }
      },
      "execution_count": 44,
      "outputs": [
        {
          "output_type": "execute_result",
          "data": {
            "text/plain": [
              "array([ 1,  2,  3, 11, 12, 12,  9,  5,  6, 11,  8,  4, 10,  7])"
            ]
          },
          "metadata": {},
          "execution_count": 44
        }
      ]
    },
    {
      "cell_type": "code",
      "source": [
        "np.insert(a,1,[11,12],axis = 0)"
      ],
      "metadata": {
        "id": "XId0uQxWVdT2",
        "outputId": "a986600a-d1a0-48b8-f72f-f5859d462cfa",
        "colab": {
          "base_uri": "https://localhost:8080/"
        }
      },
      "execution_count": 40,
      "outputs": [
        {
          "output_type": "execute_result",
          "data": {
            "text/plain": [
              "array([[ 1,  2],\n",
              "       [11, 12],\n",
              "       [ 3,  4],\n",
              "       [ 5,  6]])"
            ]
          },
          "metadata": {},
          "execution_count": 40
        }
      ]
    },
    {
      "cell_type": "code",
      "source": [
        "np.insert(a,1,[11,12,13],axis = 1)"
      ],
      "metadata": {
        "id": "U2Nu-e0vVf-7",
        "outputId": "05e95278-aff4-4798-cd09-1c0739f092d2",
        "colab": {
          "base_uri": "https://localhost:8080/"
        }
      },
      "execution_count": 41,
      "outputs": [
        {
          "output_type": "execute_result",
          "data": {
            "text/plain": [
              "array([[ 1, 11,  2],\n",
              "       [ 3, 12,  4],\n",
              "       [ 5, 13,  6]])"
            ]
          },
          "metadata": {},
          "execution_count": 41
        }
      ]
    },
    {
      "cell_type": "code",
      "source": [
        "a = np.array([[ 1,  2,  3, 12],\n",
        "              [ 9,  5,  6,  11],\n",
        "              [ 8,  4, 10, 7]])"
      ],
      "metadata": {
        "id": "0bYatClQVlwM"
      },
      "execution_count": 45,
      "outputs": []
    },
    {
      "cell_type": "markdown",
      "source": [
        "# Delete Method"
      ],
      "metadata": {
        "id": "zRSGitCaVoW2"
      }
    },
    {
      "cell_type": "code",
      "source": [
        "a = np.array([[ 1,  2,  3, 12],\n",
        "              [ 9,  5,  6,  11],\n",
        "              [ 8,  4, 10, 7]])"
      ],
      "metadata": {
        "id": "4mwFFNTkVn2k"
      },
      "execution_count": 51,
      "outputs": []
    },
    {
      "cell_type": "code",
      "source": [
        "np.ndim(a)"
      ],
      "metadata": {
        "id": "mIbGElKnXN5y",
        "outputId": "a07636c4-9e0e-435f-f622-87e5f3c0feff",
        "colab": {
          "base_uri": "https://localhost:8080/"
        }
      },
      "execution_count": 52,
      "outputs": [
        {
          "output_type": "execute_result",
          "data": {
            "text/plain": [
              "2"
            ]
          },
          "metadata": {},
          "execution_count": 52
        }
      ]
    },
    {
      "cell_type": "code",
      "source": [
        "np.delete(a,4)"
      ],
      "metadata": {
        "id": "8FO-CNjHW8y3",
        "outputId": "1c2d1868-6421-4344-f21f-ffd0eed92602",
        "colab": {
          "base_uri": "https://localhost:8080/"
        }
      },
      "execution_count": 53,
      "outputs": [
        {
          "output_type": "execute_result",
          "data": {
            "text/plain": [
              "array([ 1,  2,  3, 12,  5,  6, 11,  8,  4, 10,  7])"
            ]
          },
          "metadata": {},
          "execution_count": 53
        }
      ]
    },
    {
      "cell_type": "code",
      "source": [
        "np.delete(a,1,axis = 1)"
      ],
      "metadata": {
        "id": "EQj-pACEXFdb",
        "outputId": "c7659f76-ce3b-4b6d-f0bc-54aa0d13d16a",
        "colab": {
          "base_uri": "https://localhost:8080/"
        }
      },
      "execution_count": 54,
      "outputs": [
        {
          "output_type": "execute_result",
          "data": {
            "text/plain": [
              "array([[ 1,  3, 12],\n",
              "       [ 9,  6, 11],\n",
              "       [ 8, 10,  7]])"
            ]
          },
          "metadata": {},
          "execution_count": 54
        }
      ]
    },
    {
      "cell_type": "code",
      "source": [
        "np.delete(a,1,axis = 0)"
      ],
      "metadata": {
        "id": "0btUHedkXJlO",
        "outputId": "36f91dc1-b58c-43df-b0cb-b859cd60d035",
        "colab": {
          "base_uri": "https://localhost:8080/"
        }
      },
      "execution_count": 55,
      "outputs": [
        {
          "output_type": "execute_result",
          "data": {
            "text/plain": [
              "array([[ 1,  2,  3, 12],\n",
              "       [ 8,  4, 10,  7]])"
            ]
          },
          "metadata": {},
          "execution_count": 55
        }
      ]
    },
    {
      "cell_type": "markdown",
      "source": [
        "# Hstack vs Vstack\n",
        "\n",
        "Hstack is used to join two arrays **Horizontally**.\n",
        "\n",
        "Vstack is used to join two arrays **Vertically**.\n"
      ],
      "metadata": {
        "id": "k7DcE6R1BKfX"
      }
    },
    {
      "cell_type": "code",
      "source": [
        "import numpy as np"
      ],
      "metadata": {
        "id": "ANnI5Qaonnwp"
      },
      "execution_count": 56,
      "outputs": []
    },
    {
      "cell_type": "code",
      "source": [
        "a = np.array([1, 2, 3])\n",
        "b = np.array([4, 5, 6])"
      ],
      "metadata": {
        "id": "9siOHvOXBJVi"
      },
      "execution_count": 57,
      "outputs": []
    },
    {
      "cell_type": "code",
      "source": [
        "print(a,b)\n",
        "print(np.ndim(a), np.ndim(b))"
      ],
      "metadata": {
        "id": "psDC18pQBJXo",
        "colab": {
          "base_uri": "https://localhost:8080/"
        },
        "outputId": "5ce5410d-dc2c-4531-a1b0-a26a5a55ca6d"
      },
      "execution_count": 58,
      "outputs": [
        {
          "output_type": "stream",
          "name": "stdout",
          "text": [
            "[1 2 3] [4 5 6]\n",
            "1 1\n"
          ]
        }
      ]
    },
    {
      "cell_type": "code",
      "source": [
        "# Performing Hstack\n",
        "\n",
        "result = np.hstack((a,b))\n",
        "\n",
        "print(result)\n",
        "print(np.ndim(result))"
      ],
      "metadata": {
        "id": "s88-QDBBBJZ6",
        "colab": {
          "base_uri": "https://localhost:8080/"
        },
        "outputId": "2083af84-8b25-4cab-cc23-6d9d818a4a68"
      },
      "execution_count": 59,
      "outputs": [
        {
          "output_type": "stream",
          "name": "stdout",
          "text": [
            "[1 2 3 4 5 6]\n",
            "1\n"
          ]
        }
      ]
    },
    {
      "cell_type": "code",
      "source": [
        "# Performing Vstack\n",
        "\n",
        "result = np.vstack((a,b))\n",
        "\n",
        "print(result, np.ndim(result))"
      ],
      "metadata": {
        "id": "4NU5OftUDl5h",
        "colab": {
          "base_uri": "https://localhost:8080/"
        },
        "outputId": "8056ef71-cb73-47b4-e571-87b8a104c938"
      },
      "execution_count": 60,
      "outputs": [
        {
          "output_type": "stream",
          "name": "stdout",
          "text": [
            "[[1 2 3]\n",
            " [4 5 6]] 2\n"
          ]
        }
      ]
    },
    {
      "cell_type": "markdown",
      "source": [
        "# Numpy Concatenation\n",
        "\n",
        "It is used for joining two or more arrays of the same shape along a specified axis.\n",
        "\n",
        "Axis = 0, Adding new rows\n",
        "\n",
        "Axis = 1, Adding new columns\n"
      ],
      "metadata": {
        "id": "Mh1rrauKETDN"
      }
    },
    {
      "cell_type": "code",
      "source": [
        "arr1 = np.array([[2, 4], [6, 8]])\n",
        "arr2 = np.array([[3, 5], [7, 9]])"
      ],
      "metadata": {
        "id": "Vom8HL5UYxZD"
      },
      "execution_count": 62,
      "outputs": []
    },
    {
      "cell_type": "code",
      "source": [
        "print(arr1.shape,arr2.shape)"
      ],
      "metadata": {
        "id": "ibL7lor8Yz-M",
        "outputId": "3ecab927-a05a-415a-ed43-245d800ed704",
        "colab": {
          "base_uri": "https://localhost:8080/"
        }
      },
      "execution_count": 63,
      "outputs": [
        {
          "output_type": "stream",
          "name": "stdout",
          "text": [
            "(2, 2) (2, 2)\n"
          ]
        }
      ]
    },
    {
      "cell_type": "code",
      "source": [
        "arr3 = np.array([[3], [9]])\n",
        "\n",
        "arr4 = np.array([[4] , [8]])"
      ],
      "metadata": {
        "id": "o-K50BT9Y3T9"
      },
      "execution_count": 65,
      "outputs": []
    },
    {
      "cell_type": "code",
      "source": [
        "print(arr3)"
      ],
      "metadata": {
        "id": "IAjva3niZJJK",
        "outputId": "abd00bc2-8e0c-4500-daeb-3409a08ab932",
        "colab": {
          "base_uri": "https://localhost:8080/"
        }
      },
      "execution_count": 67,
      "outputs": [
        {
          "output_type": "stream",
          "name": "stdout",
          "text": [
            "[[3]\n",
            " [9]]\n"
          ]
        }
      ]
    },
    {
      "cell_type": "code",
      "source": [
        "print(arr4)"
      ],
      "metadata": {
        "id": "CZrUva6GZM64",
        "outputId": "109267d2-10da-40b5-939b-84dd53c6a413",
        "colab": {
          "base_uri": "https://localhost:8080/"
        }
      },
      "execution_count": 68,
      "outputs": [
        {
          "output_type": "stream",
          "name": "stdout",
          "text": [
            "[[4]\n",
            " [8]]\n"
          ]
        }
      ]
    },
    {
      "cell_type": "code",
      "source": [
        "print(arr3.shape,arr4.shape)"
      ],
      "metadata": {
        "id": "6wB-tDQqZBSZ",
        "outputId": "da2c51a1-c9f7-4d74-efe3-e54fb24d833c",
        "colab": {
          "base_uri": "https://localhost:8080/"
        }
      },
      "execution_count": 66,
      "outputs": [
        {
          "output_type": "stream",
          "name": "stdout",
          "text": [
            "(2, 1) (2, 1)\n"
          ]
        }
      ]
    },
    {
      "cell_type": "code",
      "source": [
        "new = np.concatenate((arr1, arr2), axis = 0)\n",
        "print(new, new.shape)"
      ],
      "metadata": {
        "id": "YjMeNhqJEmO7",
        "colab": {
          "base_uri": "https://localhost:8080/"
        },
        "outputId": "da0782ee-bb76-4dc0-ed24-021f76549932"
      },
      "execution_count": 69,
      "outputs": [
        {
          "output_type": "stream",
          "name": "stdout",
          "text": [
            "[[2 4]\n",
            " [6 8]\n",
            " [3 5]\n",
            " [7 9]] (4, 2)\n"
          ]
        }
      ]
    },
    {
      "cell_type": "code",
      "source": [
        "new = np.concatenate((arr3, arr4), axis = 1)\n",
        "print(new)"
      ],
      "metadata": {
        "id": "jcrws4QsHPQV",
        "colab": {
          "base_uri": "https://localhost:8080/"
        },
        "outputId": "5e3f3207-d091-4a7f-df21-cc49176c5d3e"
      },
      "execution_count": 70,
      "outputs": [
        {
          "output_type": "stream",
          "name": "stdout",
          "text": [
            "[[3 4]\n",
            " [9 8]]\n"
          ]
        }
      ]
    }
  ]
}