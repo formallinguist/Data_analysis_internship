{
  "nbformat": 4,
  "nbformat_minor": 0,
  "metadata": {
    "colab": {
      "provenance": []
    },
    "kernelspec": {
      "name": "python3",
      "display_name": "Python 3"
    },
    "language_info": {
      "name": "python"
    }
  },
  "cells": [
    {
      "cell_type": "markdown",
      "source": [
        "\n",
        "# List and it's Methods\n",
        "\n",
        "Lists are used to store multiple items in a single variable.\n",
        "\n",
        "*   Lists are used to store multiple items in a single variable.\n",
        "*   It is a collection which is ordered, changeable and allows duplicate members.\n",
        "\n",
        "**List Methods**\n",
        "\n",
        "\n",
        "append(), sort(), reverse(), remove(), pop(), insert(), index(), extend(), count(), copy(), clear()\n",
        "\n",
        "\n",
        "\n",
        "\n",
        "\n"
      ],
      "metadata": {
        "id": "1P1jdwht7AjD"
      }
    },
    {
      "cell_type": "code",
      "source": [
        "fruits = ['apple', 'cherry', 'banana']\n",
        "\n",
        "fruits.append(\"orange\") # we will be adding something to our list in the last position.\n",
        "\n",
        "fruits.sort() # sorting the numbers according to ascending and descending order.\n",
        "\n",
        "fruits.reverse() # It will reverse the elements completely\n",
        "\n",
        "fruits.remove(\"banana\") # Removes an element from the list\n",
        "\n",
        "fruits.pop(1) #Removes the element from the list, you can index which element you want to remove.\n",
        "\n",
        "fruits.insert(1, \"watermelon\") # Adds elements to the list in the given position.\n",
        "\n",
        "fruits.index(\"orange\") #It gives the index position of the element is given\n",
        "\n",
        "others = ['pineapple', 'strawaberry', 'guava','cherry','pineapple'] # Here we are declaring the list\n",
        "\n",
        "fruits.extend(others) #Here we are adding the whole list towards the list\n",
        "\n",
        "fruits.count(\"cherry\") # this function counts how many times the cherry occurs.\n",
        "\n",
        "fruits.copy() # it will create a copy of the original list.\n",
        "\n",
        "fruits.clear() #Elements of the list will be deleted completely"
      ],
      "metadata": {
        "id": "9ks2pSF96rTZ"
      },
      "execution_count": 9,
      "outputs": []
    },
    {
      "cell_type": "code",
      "source": [
        "print(fruits)"
      ],
      "metadata": {
        "id": "LrmJzXqMjeAl",
        "outputId": "1531e121-70b8-4b75-e450-ef50bf83d66d",
        "colab": {
          "base_uri": "https://localhost:8080/"
        }
      },
      "execution_count": 10,
      "outputs": [
        {
          "output_type": "stream",
          "name": "stdout",
          "text": [
            "[]\n"
          ]
        }
      ]
    },
    {
      "cell_type": "markdown",
      "source": [
        "# String and it's Methods\n",
        "\n",
        "*   All string methods returns new values. They do not change the original string.\n",
        "\n",
        "**String Methods**\n",
        "\n",
        "\n",
        "*   isalpha(), isalnum(), index(), find(), count(), capitalize(), isdigit(), islower(), isnumeric()\n",
        "*   endswith(), upper(), title(), swapcase(), strip(), startswith(), split(), join(), lower(), replace()"
      ],
      "metadata": {
        "id": "1CeUtg8TA_jj"
      }
    },
    {
      "cell_type": "code",
      "source": [
        "txt = \"hello, and welcome to our course.\"\n",
        "a = txt.capitalize() # It capitalizes first letter of the  first word\n",
        "print(a)\n",
        "\n",
        "txt = \"I am from India and born in Guntur, Andhrapradesh , India\"\n",
        "b = txt.count(\"India\") # It sees how many times the word has occured in the text.\n",
        "print(b)\n",
        "\n",
        "txt = \"I love apples, apple are my favorite fruit\"\n",
        "c = txt.find(\"my\") # If the \"find\" function doesnot find the world in the text, it gives \"-1\" as answer\n",
        "print(c)\n",
        "\n",
        "d = txt.index(\"apple\") #in index if the word is not found it gives an error\n",
        "print(d) #preferebly use index not find.\n",
        "\n",
        "txt = \"hello, my name is Peter, I am 26 years old\"\n",
        "e = txt.split(',') # Splitting the sentence into small chunks.\n",
        "print(e)"
      ],
      "metadata": {
        "id": "cgSVsDxU6rc8",
        "colab": {
          "base_uri": "https://localhost:8080/"
        },
        "outputId": "d1637687-c555-458d-b616-f87d10f6cf0e"
      },
      "execution_count": 25,
      "outputs": [
        {
          "output_type": "stream",
          "name": "stdout",
          "text": [
            "Hello, and welcome to our course.\n",
            "2\n",
            "25\n",
            "7\n",
            "['hello', ' my name is Peter', ' I am 26 years old']\n"
          ]
        }
      ]
    },
    {
      "cell_type": "code",
      "source": [
        "txt = \"I love apples, apple is my favorite fruit\""
      ],
      "metadata": {
        "id": "tkFZpxvArlgJ"
      },
      "execution_count": 26,
      "outputs": []
    },
    {
      "cell_type": "code",
      "source": [
        "txt.find('banana') #if the word is not found we get -1 as output"
      ],
      "metadata": {
        "colab": {
          "base_uri": "https://localhost:8080/"
        },
        "id": "snLltyXmrr3R",
        "outputId": "dba27bd0-783d-4877-f077-611afffa1576"
      },
      "execution_count": 28,
      "outputs": [
        {
          "output_type": "execute_result",
          "data": {
            "text/plain": [
              "-1"
            ]
          },
          "metadata": {},
          "execution_count": 28
        }
      ]
    },
    {
      "cell_type": "code",
      "source": [
        "txt.index('apple')"
      ],
      "metadata": {
        "colab": {
          "base_uri": "https://localhost:8080/"
        },
        "id": "P1yMe6e0rr5t",
        "outputId": "752dd19a-0dde-4495-cd60-a5143167bf86"
      },
      "execution_count": 30,
      "outputs": [
        {
          "output_type": "execute_result",
          "data": {
            "text/plain": [
              "7"
            ]
          },
          "metadata": {},
          "execution_count": 30
        }
      ]
    },
    {
      "cell_type": "code",
      "source": [
        "txt = \"Company12\"\n",
        "name = txt.isalnum() # both alphabets and numbers\n",
        "print(name)\n",
        "\n",
        "txt = \"Company\"\n",
        "alpha = txt.isalpha() # only alphabets\n",
        "print(alpha)\n",
        "\n",
        "txt = '50800' #use single quote\n",
        "num = txt.isdigit() #only numbers\n",
        "print(num)\n",
        "\n",
        "names = [\"John\", \"Peter\", \"Vicky\"]\n",
        "joined = \"_\".join(names) #Join all the elements in the list\n",
        "print(joined)\n",
        "\n",
        "txt = \"I love sports\" #Only text.\n",
        "result = txt.replace(\"sports\", \"cricket\") # using this we can replace the text\n",
        "print(result)"
      ],
      "metadata": {
        "id": "4wPE9X9y6rte",
        "colab": {
          "base_uri": "https://localhost:8080/"
        },
        "outputId": "ccace543-3fcb-456a-f9a3-938fe0d0a932"
      },
      "execution_count": 34,
      "outputs": [
        {
          "output_type": "stream",
          "name": "stdout",
          "text": [
            "True\n",
            "True\n",
            "True\n",
            "John_Peter_Vicky\n",
            "I love cricket\n"
          ]
        }
      ]
    },
    {
      "cell_type": "markdown",
      "source": [
        "#Condition starts with and ends with"
      ],
      "metadata": {
        "id": "WAGq2Se00bWb"
      }
    },
    {
      "cell_type": "code",
      "source": [
        "#Useful for data cleaning starts with and ends with.\n",
        "txt = \"Hello, welcome to my world.\"\n",
        "start = txt.startswith(\"?\")\n",
        "end = txt.endswith(\"apple\")"
      ],
      "metadata": {
        "id": "y6bq81tA6rxJ"
      },
      "execution_count": 38,
      "outputs": []
    },
    {
      "cell_type": "code",
      "source": [
        "start, end"
      ],
      "metadata": {
        "id": "GyjuncKD6r5u",
        "colab": {
          "base_uri": "https://localhost:8080/"
        },
        "outputId": "0694f72a-cdee-4387-c595-214f37a6cbc8"
      },
      "execution_count": 39,
      "outputs": [
        {
          "output_type": "execute_result",
          "data": {
            "text/plain": [
              "(False, False)"
            ]
          },
          "metadata": {},
          "execution_count": 39
        }
      ]
    },
    {
      "cell_type": "markdown",
      "source": [
        "# Python Conditional Statements\n",
        "\n",
        "\n",
        "*   If , elif, else statements"
      ],
      "metadata": {
        "id": "wjgI26BME9Qc"
      }
    },
    {
      "cell_type": "code",
      "source": [
        "b , a = 33 , 200 # multi variable assignment.\n",
        "\n",
        "# print(b>a)\n",
        "\n",
        "if b > a:\n",
        "  print(True)\n",
        "else:\n",
        "  print(False)"
      ],
      "metadata": {
        "id": "qwjEKo2TE7sj",
        "colab": {
          "base_uri": "https://localhost:8080/"
        },
        "outputId": "60fafc19-f858-4aca-d29f-19f439bcc66d"
      },
      "execution_count": 43,
      "outputs": [
        {
          "output_type": "stream",
          "name": "stdout",
          "text": [
            "False\n"
          ]
        }
      ]
    },
    {
      "cell_type": "code",
      "source": [
        "print(b)"
      ],
      "metadata": {
        "id": "dqxD_ZqE5FNJ",
        "outputId": "ec187c2a-72b6-422d-c9fe-8e2e47e369d5",
        "colab": {
          "base_uri": "https://localhost:8080/"
        }
      },
      "execution_count": 44,
      "outputs": [
        {
          "output_type": "stream",
          "name": "stdout",
          "text": [
            "33\n"
          ]
        }
      ]
    },
    {
      "cell_type": "code",
      "source": [
        "Teja , kiran = 90 , 80\n",
        "\n",
        "if Teja > kiran:\n",
        "  print(\"Teja scores greater than kiran\")\n",
        "elif Teja == kiran:\n",
        "  print(\"Both scores equally\")"
      ],
      "metadata": {
        "id": "p1umnfvmE7uk",
        "outputId": "61c11483-0734-40ce-acf2-c856030b7ae6",
        "colab": {
          "base_uri": "https://localhost:8080/"
        }
      },
      "execution_count": 48,
      "outputs": [
        {
          "output_type": "stream",
          "name": "stdout",
          "text": [
            "vinod scores greater than aman\n"
          ]
        }
      ]
    },
    {
      "cell_type": "code",
      "source": [
        "if Teja > kiran:\n",
        "  print(\"Teja scores greater than kiran\")\n",
        "elif Teja == kiran:\n",
        "  print(\"Both scores equally\")\n",
        "else:\n",
        "  print('kiran scores greater than Teja')"
      ],
      "metadata": {
        "colab": {
          "base_uri": "https://localhost:8080/"
        },
        "id": "bzcR9vgGE7wq",
        "outputId": "4f1ae697-b229-43e2-f994-a884bd53600a"
      },
      "execution_count": 51,
      "outputs": [
        {
          "output_type": "stream",
          "name": "stdout",
          "text": [
            "Teja scores greater than kiran\n"
          ]
        }
      ]
    },
    {
      "cell_type": "code",
      "source": [
        "marks = 72\n",
        "\n",
        "if marks > 35:\n",
        "  print(\"He is Pass\")\n",
        "  if marks > 60:\n",
        "    print(\"He is in Distinction\")\n",
        "  else:\n",
        "    print(\"He is in Mid Range\")\n",
        "else:\n",
        "  print('Sadly, He is Fail')"
      ],
      "metadata": {
        "colab": {
          "base_uri": "https://localhost:8080/"
        },
        "id": "Wqb480gBE7yq",
        "outputId": "4baac431-1036-46ad-bf43-5e8cf06916dc"
      },
      "execution_count": 52,
      "outputs": [
        {
          "output_type": "stream",
          "name": "stdout",
          "text": [
            "He is Pass\n",
            "He is in Distinction\n"
          ]
        }
      ]
    }
  ]
}