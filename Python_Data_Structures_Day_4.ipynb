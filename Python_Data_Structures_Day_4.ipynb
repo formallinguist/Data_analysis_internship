{
  "nbformat": 4,
  "nbformat_minor": 0,
  "metadata": {
    "colab": {
      "provenance": []
    },
    "kernelspec": {
      "name": "python3",
      "display_name": "Python 3"
    },
    "language_info": {
      "name": "python"
    }
  },
  "cells": [
    {
      "cell_type": "markdown",
      "source": [
        "# Tuple\n",
        "They are used to store multiple items in a single variable.\n",
        "\n",
        "A tuple is a collection which is ordered and unchangeable.\n",
        "It is written with round brackets."
      ],
      "metadata": {
        "id": "gZpXksJpDhuW"
      }
    },
    {
      "cell_type": "code",
      "source": [
        "fruits = (\"apple\", \"banana\", \"cherry\") #Closed barckets          # Standard Method\n",
        "print(fruits)                     #it is immutable and we can store different tyoes of data\n"
      ],
      "metadata": {
        "colab": {
          "base_uri": "https://localhost:8080/"
        },
        "id": "Iqd80mJHDU6O",
        "outputId": "a64c5485-514b-4a0b-e02b-28f70187d32e"
      },
      "execution_count": 10,
      "outputs": [
        {
          "output_type": "stream",
          "name": "stdout",
          "text": [
            "('apple', 'banana', 'cherry')\n"
          ]
        }
      ]
    },
    {
      "cell_type": "code",
      "source": [
        "ints = tuple([1,2,3,4,5,9,7,2,0])                                 # Function Method"
      ],
      "metadata": {
        "id": "WBGIsRXo6hqL"
      },
      "execution_count": 3,
      "outputs": []
    },
    {
      "cell_type": "code",
      "source": [
        "ints"
      ],
      "metadata": {
        "colab": {
          "base_uri": "https://localhost:8080/"
        },
        "id": "A7XgimGxT191",
        "outputId": "90d7b1b6-571a-4bb5-857c-de48f10065d4"
      },
      "execution_count": 4,
      "outputs": [
        {
          "output_type": "execute_result",
          "data": {
            "text/plain": [
              "(1, 2, 3, 4, 5, 9, 7, 2, 0)"
            ]
          },
          "metadata": {},
          "execution_count": 4
        }
      ]
    },
    {
      "cell_type": "code",
      "source": [
        "fruits = (\"apple\", \"banana\", \"cherry\",\"banana\")                  # It allows Allows Duplicates\n",
        "print(fruits)"
      ],
      "metadata": {
        "colab": {
          "base_uri": "https://localhost:8080/"
        },
        "id": "qY886OHhDU7b",
        "outputId": "ac518efd-d713-4321-ec6c-03214fc12797"
      },
      "execution_count": 9,
      "outputs": [
        {
          "output_type": "stream",
          "name": "stdout",
          "text": [
            "('apple', 'banana', 'cherry', 'banana')\n"
          ]
        }
      ]
    },
    {
      "cell_type": "code",
      "source": [
        "# Count() Method\n",
        "\n",
        "nums = (1, 3, 7, 8, 7, 5, 4, 6, 8, 5)\n",
        "\n",
        "nums.count(6)  #counts how many times a specific element has occured."
      ],
      "metadata": {
        "colab": {
          "base_uri": "https://localhost:8080/"
        },
        "id": "Nd0TN_oGDU-E",
        "outputId": "37ba1f2b-ec94-41eb-caff-450935bde7af"
      },
      "execution_count": 6,
      "outputs": [
        {
          "output_type": "execute_result",
          "data": {
            "text/plain": [
              "1"
            ]
          },
          "metadata": {},
          "execution_count": 6
        }
      ]
    },
    {
      "cell_type": "code",
      "source": [
        "# Index() Method\n",
        "\n",
        "nums = (1, 3, 7, 8, 7, 5, 4, 6, 8, 5)\n",
        "\n",
        "nums.index(5) #gives the index value of the element."
      ],
      "metadata": {
        "colab": {
          "base_uri": "https://localhost:8080/"
        },
        "id": "l__lbM1FDU_K",
        "outputId": "bf149858-4cd5-4af1-ed48-0badf77210e4"
      },
      "execution_count": 7,
      "outputs": [
        {
          "output_type": "execute_result",
          "data": {
            "text/plain": [
              "5"
            ]
          },
          "metadata": {},
          "execution_count": 7
        }
      ]
    },
    {
      "cell_type": "code",
      "source": [
        "# Min() & Max() Method\n",
        "\n",
        "nums = (1, 3, 7, 99, 7, 5, 4, 6, 8, 5)\n",
        "\n",
        "min(nums) # This function gives the min value from the data\n",
        "max(nums) # This function returns maximum value from the tuple."
      ],
      "metadata": {
        "colab": {
          "base_uri": "https://localhost:8080/"
        },
        "id": "teP82ThiDVDq",
        "outputId": "079cae86-4a9c-4019-9e78-8b591064ea19"
      },
      "execution_count": 8,
      "outputs": [
        {
          "output_type": "execute_result",
          "data": {
            "text/plain": [
              "99"
            ]
          },
          "metadata": {},
          "execution_count": 8
        }
      ]
    },
    {
      "cell_type": "markdown",
      "source": [
        "# Dictionary\n",
        "Dictionaries are used to store data values in key:value pairs.\n",
        "\n",
        "A dictionary is a collection which is ordered*, changeable and do not allow duplicates unlike list and tuples"
      ],
      "metadata": {
        "id": "LCiQCPXMHUCY"
      }
    },
    {
      "cell_type": "code",
      "source": [
        "car = {\"brand\": \"Ford\",\"model\": \"Mustang\",\"year\": 1964} # here the data is stored in key:value pairs."
      ],
      "metadata": {
        "id": "gQZ4EwZSGyNw"
      },
      "execution_count": 12,
      "outputs": []
    },
    {
      "cell_type": "code",
      "source": [
        "# # Get() Method\n",
        "car.get(\"year\") # In this method we use key value to get the value of it as output."
      ],
      "metadata": {
        "id": "YTetcvytG1Wt",
        "outputId": "3ac81545-813b-4d81-c9f3-b03f6cbc8417",
        "colab": {
          "base_uri": "https://localhost:8080/"
        }
      },
      "execution_count": 13,
      "outputs": [
        {
          "output_type": "execute_result",
          "data": {
            "text/plain": [
              "1964"
            ]
          },
          "metadata": {},
          "execution_count": 13
        }
      ]
    },
    {
      "cell_type": "code",
      "source": [
        "# # items() Method\n",
        "car.items() # It is combination of key and value pairs, we can see the keys and values of the data."
      ],
      "metadata": {
        "id": "KBryQMPkG36t",
        "outputId": "295ff349-62cb-4c9f-ef9d-31435764453c",
        "colab": {
          "base_uri": "https://localhost:8080/"
        }
      },
      "execution_count": 14,
      "outputs": [
        {
          "output_type": "execute_result",
          "data": {
            "text/plain": [
              "dict_items([('brand', 'Ford'), ('model', 'Mustang'), ('year', 1964)])"
            ]
          },
          "metadata": {},
          "execution_count": 14
        }
      ]
    },
    {
      "cell_type": "code",
      "source": [
        "# # key() Method\n",
        "car.keys() # We get to see the only keys."
      ],
      "metadata": {
        "id": "AYiZbxQJG9vR",
        "outputId": "fa3e8455-c800-431c-8606-ad83e0dacdae",
        "colab": {
          "base_uri": "https://localhost:8080/"
        }
      },
      "execution_count": 16,
      "outputs": [
        {
          "output_type": "execute_result",
          "data": {
            "text/plain": [
              "dict_keys(['brand', 'model', 'year'])"
            ]
          },
          "metadata": {},
          "execution_count": 16
        }
      ]
    },
    {
      "cell_type": "code",
      "source": [
        "# # values() Method\n",
        "car.values() #We get to see only the values of the dictionary."
      ],
      "metadata": {
        "id": "ZrqYM4CXHIy2",
        "outputId": "12f91f35-242d-41af-e3a8-087c69a53951",
        "colab": {
          "base_uri": "https://localhost:8080/"
        }
      },
      "execution_count": 18,
      "outputs": [
        {
          "output_type": "execute_result",
          "data": {
            "text/plain": [
              "dict_values(['Ford', 'Mustang', 1964])"
            ]
          },
          "metadata": {},
          "execution_count": 18
        }
      ]
    },
    {
      "cell_type": "markdown",
      "source": [
        "# Two pop methods.\n",
        "1. simple pop\n",
        "2. Item pop\n",
        "\n"
      ],
      "metadata": {
        "id": "yT2fQMAkHxGc"
      }
    },
    {
      "cell_type": "code",
      "source": [
        "car = {\"brand\": \"Ford\",\"model\": \"Mustang\",\"year\": 1964} # here the data is stored in key:value pairs."
      ],
      "metadata": {
        "id": "B83WBfnjIRA1"
      },
      "execution_count": 34,
      "outputs": []
    },
    {
      "cell_type": "code",
      "source": [
        "# pop() Method\n",
        "# car\n",
        "car.pop(\"year\") # We are removing the year key value and pair using the pop method.\n",
        "print(car)"
      ],
      "metadata": {
        "id": "CYgCG38JHveK",
        "outputId": "998b9fb7-e838-483f-887d-9ef50ecbf83a",
        "colab": {
          "base_uri": "https://localhost:8080/"
        }
      },
      "execution_count": 35,
      "outputs": [
        {
          "output_type": "stream",
          "name": "stdout",
          "text": [
            "{'brand': 'Ford', 'model': 'Mustang'}\n"
          ]
        }
      ]
    },
    {
      "cell_type": "code",
      "source": [
        "# popitem() Method\n",
        "car.popitem() # we don't have to pass the item in the fuction it automatically delete the last element of key and value pair the dictionary.\n",
        "print(car)"
      ],
      "metadata": {
        "id": "RDfpSdd3IfS3",
        "colab": {
          "base_uri": "https://localhost:8080/"
        },
        "outputId": "01f2351f-a50b-4bfc-909e-19e92919949e"
      },
      "execution_count": 36,
      "outputs": [
        {
          "output_type": "stream",
          "name": "stdout",
          "text": [
            "{'brand': 'Ford'}\n"
          ]
        }
      ]
    },
    {
      "cell_type": "code",
      "source": [
        "# update() Method\n",
        "\n",
        "car.update({\"color\": \"White\"}) #Here we are adding key and vlaue pair into our dictionary\n",
        "print(car)"
      ],
      "metadata": {
        "colab": {
          "base_uri": "https://localhost:8080/"
        },
        "id": "dO9J8a-IIfVH",
        "outputId": "865716dc-a731-4195-c1a2-a1eab9b7559c"
      },
      "execution_count": 30,
      "outputs": [
        {
          "output_type": "stream",
          "name": "stdout",
          "text": [
            "{'color': 'White'}\n"
          ]
        }
      ]
    },
    {
      "cell_type": "code",
      "source": [
        "car"
      ],
      "metadata": {
        "colab": {
          "base_uri": "https://localhost:8080/"
        },
        "id": "j2tgmm9TBxOB",
        "outputId": "0fd3df45-19f2-4bfa-e200-9515e11cb835"
      },
      "execution_count": 31,
      "outputs": [
        {
          "output_type": "execute_result",
          "data": {
            "text/plain": [
              "{'color': 'White'}"
            ]
          },
          "metadata": {},
          "execution_count": 31
        }
      ]
    },
    {
      "cell_type": "code",
      "source": [
        "# clear() Method\n",
        "\n",
        "car.clear() # It is used to clear the whole dictionary and give the empty dictionary.\n",
        "# print(car)"
      ],
      "metadata": {
        "id": "IFrOPO54Ifc2"
      },
      "execution_count": 37,
      "outputs": []
    },
    {
      "cell_type": "code",
      "source": [
        "car"
      ],
      "metadata": {
        "colab": {
          "base_uri": "https://localhost:8080/"
        },
        "id": "qUJPAE08IffH",
        "outputId": "3a7f4d20-9357-4da7-efb0-f0fe33d96494"
      },
      "execution_count": 33,
      "outputs": [
        {
          "output_type": "execute_result",
          "data": {
            "text/plain": [
              "{}"
            ]
          },
          "metadata": {},
          "execution_count": 33
        }
      ]
    },
    {
      "cell_type": "markdown",
      "source": [
        "# Set\n",
        "Sets are used to store multiple items in a single variable.\n",
        "\n",
        "Sets are written with curly brackets."
      ],
      "metadata": {
        "id": "siU6lzgaXqnX"
      }
    },
    {
      "cell_type": "code",
      "source": [
        "fruits = {\"apple\", \"banana\", \"cherry\"} #No duplicates, updation is possible."
      ],
      "metadata": {
        "id": "apSrzl_Ub9PT"
      },
      "execution_count": 50,
      "outputs": []
    },
    {
      "cell_type": "code",
      "source": [
        "fruits.add(\"orange\") # This functiion is used to add elements to the set, and set is not ordered unlike list and tuple.\n",
        "print(fruits)"
      ],
      "metadata": {
        "id": "B2KQiw38cBz2",
        "outputId": "c6ce98a9-b29a-4a57-f4d4-1c5e95f386b0",
        "colab": {
          "base_uri": "https://localhost:8080/"
        }
      },
      "execution_count": 51,
      "outputs": [
        {
          "output_type": "stream",
          "name": "stdout",
          "text": [
            "{'cherry', 'apple', 'orange', 'banana'}\n"
          ]
        }
      ]
    },
    {
      "cell_type": "code",
      "source": [
        "# pop()  This method is used to delete random element.\n",
        "\n",
        "fruits.pop()\n",
        "print(fruits)"
      ],
      "metadata": {
        "id": "H4BRjsnBcP40",
        "outputId": "b3a5dd26-865b-44ad-bf36-5a6b6ca5eecb",
        "colab": {
          "base_uri": "https://localhost:8080/"
        }
      },
      "execution_count": 52,
      "outputs": [
        {
          "output_type": "stream",
          "name": "stdout",
          "text": [
            "{'apple', 'orange', 'banana'}\n"
          ]
        }
      ]
    },
    {
      "cell_type": "code",
      "source": [
        "# remove() Here we are removing a specific element from the list\n",
        "\n",
        "fruits.remove(\"banana\")\n",
        "print(fruits)"
      ],
      "metadata": {
        "id": "H0iWAGrxcfEO",
        "outputId": "b9a199df-5889-411a-c2c6-d98711eb750c",
        "colab": {
          "base_uri": "https://localhost:8080/"
        }
      },
      "execution_count": 54,
      "outputs": [
        {
          "output_type": "stream",
          "name": "stdout",
          "text": [
            "{'apple', 'orange'}\n"
          ]
        }
      ]
    },
    {
      "cell_type": "code",
      "source": [
        "type(fruits)"
      ],
      "metadata": {
        "colab": {
          "base_uri": "https://localhost:8080/"
        },
        "id": "ZTxBoPB2FMQg",
        "outputId": "c766059d-1172-4cf8-b7d3-66341c8dc8b0"
      },
      "execution_count": 56,
      "outputs": [
        {
          "output_type": "execute_result",
          "data": {
            "text/plain": [
              "set"
            ]
          },
          "metadata": {},
          "execution_count": 56
        }
      ]
    },
    {
      "cell_type": "code",
      "source": [
        "fruits = {\"apple\", \"banana\", \"cherry\"} #x set\n",
        "company = {\"google\", \"microsoft\", \"apple\"} #y set\n",
        "\n",
        "# difference()\n",
        "\n",
        "print(company.difference(fruits))       # Output will be from LHS of dot set only, not common"
      ],
      "metadata": {
        "colab": {
          "base_uri": "https://localhost:8080/"
        },
        "id": "EQiwdMbPXn5a",
        "outputId": "e90c4cbf-84da-42e9-94c4-89a8ea1dfe8b"
      },
      "execution_count": 57,
      "outputs": [
        {
          "output_type": "stream",
          "name": "stdout",
          "text": [
            "{'google', 'microsoft'}\n"
          ]
        }
      ]
    },
    {
      "cell_type": "code",
      "source": [
        "# intersection()\n",
        "\n",
        "print(company.intersection(fruits))      # Print common element from both the sets"
      ],
      "metadata": {
        "colab": {
          "base_uri": "https://localhost:8080/"
        },
        "id": "LfL5Uq5wXn9N",
        "outputId": "4e8d32f4-ae02-4f5c-d02c-e4ac940bd97d"
      },
      "execution_count": 58,
      "outputs": [
        {
          "output_type": "stream",
          "name": "stdout",
          "text": [
            "{'apple'}\n"
          ]
        }
      ]
    },
    {
      "cell_type": "code",
      "source": [
        "# union()\n",
        "\n",
        "print(company.union(fruits))        # Combine both sets together to form new set"
      ],
      "metadata": {
        "colab": {
          "base_uri": "https://localhost:8080/"
        },
        "id": "jq3zTuIZXoAa",
        "outputId": "9f18f694-d196-4a2d-d1cb-f7925968d193"
      },
      "execution_count": 59,
      "outputs": [
        {
          "metadata": {
            "tags": null
          },
          "name": "stdout",
          "output_type": "stream",
          "text": [
            "{'cherry', 'google', 'apple', 'microsoft', 'banana'}\n"
          ]
        }
      ]
    },
    {
      "cell_type": "code",
      "source": [
        "# upate()\n",
        "company.update(fruits)"
      ],
      "metadata": {
        "id": "WJNBBW33XoCN"
      },
      "execution_count": 60,
      "outputs": []
    },
    {
      "cell_type": "code",
      "source": [
        "fruits"
      ],
      "metadata": {
        "id": "x9X5RfXZXoD5",
        "colab": {
          "base_uri": "https://localhost:8080/"
        },
        "outputId": "fdb76274-452f-47b9-ffbd-54fed61b89e2"
      },
      "execution_count": 61,
      "outputs": [
        {
          "output_type": "execute_result",
          "data": {
            "text/plain": [
              "{'apple', 'banana', 'cherry'}"
            ]
          },
          "metadata": {},
          "execution_count": 61
        }
      ]
    },
    {
      "cell_type": "code",
      "source": [
        "company"
      ],
      "metadata": {
        "id": "nKchQh8eXoFs",
        "colab": {
          "base_uri": "https://localhost:8080/"
        },
        "outputId": "14b2063a-f610-4dc3-ceb6-b0db45b4a265"
      },
      "execution_count": 62,
      "outputs": [
        {
          "output_type": "execute_result",
          "data": {
            "text/plain": [
              "{'apple', 'banana', 'cherry', 'google', 'microsoft'}"
            ]
          },
          "metadata": {},
          "execution_count": 62
        }
      ]
    },
    {
      "cell_type": "code",
      "source": [],
      "metadata": {
        "id": "VXD70DC9Jd-R"
      },
      "execution_count": null,
      "outputs": []
    }
  ]
}